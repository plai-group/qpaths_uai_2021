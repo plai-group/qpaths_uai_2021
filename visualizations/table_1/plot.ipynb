{
 "cells": [
  {
   "cell_type": "code",
   "execution_count": 1,
   "metadata": {},
   "outputs": [],
   "source": [
    "%run ../init.ipynb"
   ]
  },
  {
   "cell_type": "code",
   "execution_count": 2,
   "metadata": {},
   "outputs": [],
   "source": [
    "grid_results = pd.read_pickle('./grid.pkl')\n",
    "geometric_results = pd.read_pickle('./geo.pkl')\n",
    "heuristic = pd.read_pickle('./q_heuristic.pkl')"
   ]
  },
  {
   "cell_type": "code",
   "execution_count": 3,
   "metadata": {},
   "outputs": [],
   "source": [
    "def make_cell(df):\n",
    "    return df.round(2)['median'].astype('str') + \" (\" + df.round(2)['mad'].astype('str') + \")\""
   ]
  },
  {
   "cell_type": "code",
   "execution_count": 4,
   "metadata": {},
   "outputs": [
    {
     "name": "stdout",
     "output_type": "stream",
     "text": [
      "alg                                 geo   ess_heuristic           grid\n",
      "dataset_name adaptive M                                               \n",
      "pima         False    1    79.02 (39.1)   80.64 (42.33)    10.77 (2.3)\n",
      "                      3   59.11 (41.71)   59.64 (47.41)    5.79 (1.46)\n",
      "                      5   45.63 (19.86)   41.96 (25.23)    6.63 (2.62)\n",
      "             True     1     2.51 (1.35)     2.31 (2.99)    1.62 (1.79)\n",
      "                      3     1.49 (0.43)     1.12 (1.05)    0.84 (0.84)\n",
      "                      5      0.48 (0.6)     0.76 (0.29)    0.52 (0.59)\n",
      "sonar        False    1    228.7 (80.9)  217.92 (72.51)  93.33 (15.79)\n",
      "                      3  175.21 (38.66)  172.66 (61.55)   55.94 (5.69)\n",
      "                      5  218.94 (92.08)  222.07 (78.76)  36.67 (10.32)\n",
      "             True     1   20.17 (15.99)   18.15 (15.43)   15.32 (8.19)\n",
      "                      3     3.83 (3.44)     3.78 (2.77)    3.11 (3.26)\n",
      "                      5     2.79 (2.41)     2.68 (1.95)    2.23 (0.72)\n"
     ]
    }
   ],
   "source": [
    "print((pd\n",
    " .concat([grid_results,geometric_results,heuristic])\n",
    " .reset_index()\n",
    " .replace({\n",
    "     'beta':True,\n",
    "     'fixed':False,\n",
    "     'q_init':True,\n",
    "     'q_init_fixed_beta':False,\n",
    " })\n",
    " .assign(\n",
    "     cell = lambda x: make_cell(x) \n",
    " )[['alg','dataset_name','adaptive','M','cell']]\n",
    " .assign(\n",
    "     pos = lambda x: x.alg.replace({\n",
    "     'grid':2,\n",
    "     'geo':0,\n",
    "     'ess_heuristic':1,\n",
    " })\n",
    " )\n",
    " .pivot(index=['dataset_name','adaptive','M'], columns=['alg'], values='cell')[['geo', 'ess_heuristic', 'grid']]\n",
    "))"
   ]
  }
 ],
 "metadata": {
  "kernelspec": {
   "display_name": "Python 3",
   "language": "python",
   "name": "python3"
  },
  "language_info": {
   "codemirror_mode": {
    "name": "ipython",
    "version": 3
   },
   "file_extension": ".py",
   "mimetype": "text/x-python",
   "name": "python",
   "nbconvert_exporter": "python",
   "pygments_lexer": "ipython3",
   "version": "3.6.12"
  }
 },
 "nbformat": 4,
 "nbformat_minor": 4
}
